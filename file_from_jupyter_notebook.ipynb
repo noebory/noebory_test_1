{
 "cells": [
  {
   "cell_type": "code",
   "execution_count": 1,
   "id": "aaf851aa-4004-4655-bf8f-2922a906e544",
   "metadata": {},
   "outputs": [
    {
     "name": "stdout",
     "output_type": "stream",
     "text": [
      "helloword\n"
     ]
    }
   ],
   "source": [
    "print(\"helloword\")"
   ]
  },
  {
   "cell_type": "code",
   "execution_count": 2,
   "id": "87f52835-5f9e-4bbb-b347-a77856f8e1d5",
   "metadata": {},
   "outputs": [
    {
     "name": "stdout",
     "output_type": "stream",
     "text": [
      "12\n"
     ]
    }
   ],
   "source": [
    "a=5\n",
    "b=7\n",
    "print(a+b)\n"
   ]
  },
  {
   "cell_type": "code",
   "execution_count": null,
   "id": "7779b2f4-90b5-4320-830e-455f8cbd61a1",
   "metadata": {},
   "outputs": [],
   "source": []
  }
 ],
 "metadata": {
  "kernelspec": {
   "display_name": "Python [conda env:base] *",
   "language": "python",
   "name": "conda-base-py"
  },
  "language_info": {
   "codemirror_mode": {
    "name": "ipython",
    "version": 3
   },
   "file_extension": ".py",
   "mimetype": "text/x-python",
   "name": "python",
   "nbconvert_exporter": "python",
   "pygments_lexer": "ipython3",
   "version": "3.12.7"
  }
 },
 "nbformat": 4,
 "nbformat_minor": 5
}
